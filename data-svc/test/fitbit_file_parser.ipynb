{
 "cells": [
  {
   "cell_type": "code",
   "execution_count": 1,
   "id": "41fa6cb7",
   "metadata": {},
   "outputs": [],
   "source": [
    "from zipfile import ZipFile\n",
    "import os\n",
    "import pandas as pd"
   ]
  },
  {
   "cell_type": "code",
   "execution_count": 2,
   "id": "5e7dbe36",
   "metadata": {},
   "outputs": [],
   "source": [
    "# extracts FitBit zip file to resources folder\n",
    "zip_path = \"/Users/justinbaytosh/Desktop/coding/projects/gym-spot/data-svc/resources/MyFitbitData.zip\"\n",
    "dest_path = \"/Users/justinbaytosh/Desktop/coding/projects/gym-spot/data-svc/resources\"\n",
    "\n",
    "with ZipFile(zip_path, \"r\") as zObject:\n",
    "    zObject.extractall(dest_path)"
   ]
  },
  {
   "cell_type": "code",
   "execution_count": 4,
   "id": "1e3ea941",
   "metadata": {},
   "outputs": [
    {
     "name": "stdout",
     "output_type": "stream",
     "text": [
      "/Users/justinbaytosh/Desktop/coding/projects/gym-spot/data-svc/resources/JustinBaytosh\n"
     ]
    }
   ],
   "source": [
    "# gets name of extracted folder\n",
    "sub_dir = [f.path for f in os.scandir(dest_path) if f.is_dir()]\n",
    "\n",
    "if (len(sub_dir) != 1):\n",
    "    raise Exception(\"Error finding FitBit data\")\n",
    "\n",
    "fitbit_path = sub_dir[0]\n",
    "print(fitbit_path)"
   ]
  },
  {
   "cell_type": "code",
   "execution_count": 5,
   "id": "be986222",
   "metadata": {},
   "outputs": [
    {
     "name": "stdout",
     "output_type": "stream",
     "text": [
      "/Users/justinbaytosh/Desktop/coding/projects/gym-spot/data-svc/resources/JustinBaytosh/Physical Activity\n"
     ]
    }
   ],
   "source": [
    "# gets name of activity folder\n",
    "activity_dirs = []\n",
    "\n",
    "sub_dirs = [f.path for f in os.scandir(fitbit_path) if f.is_dir()]\n",
    "for s in sub_dirs:\n",
    "    if (s.split('/')[-1] == \"Physical Activity\" in s):\n",
    "        activity_dirs.append(s)\n",
    "\n",
    "if (len(activity_dirs) != 1):\n",
    "    raise Exception(\"Error finding FitBit activity data\")\n",
    "    \n",
    "activity_folder = activity_dirs[0]\n",
    "print(activity_folder)"
   ]
  },
  {
   "cell_type": "code",
   "execution_count": 6,
   "id": "84f40af4",
   "metadata": {},
   "outputs": [],
   "source": [
    "# gets list of calorie files in activity folder, then exports list to csv\n",
    "activity_files = list(filter(lambda x: True if 'calories' in x else False, os.listdir(activity_folder)))\n",
    "\n",
    "filenames = list(map(lambda filename: activity_folder + '/' + filename, activity_files))\n",
    "outpath = dest_path + \"/activity_files.csv\"\n",
    "\n",
    "df = pd.DataFrame(data={'path': filenames})\n",
    "df.to_csv(outpath, index = False)"
   ]
  }
 ],
 "metadata": {
  "kernelspec": {
   "display_name": "Python 3 (ipykernel)",
   "language": "python",
   "name": "python3"
  },
  "language_info": {
   "codemirror_mode": {
    "name": "ipython",
    "version": 3
   },
   "file_extension": ".py",
   "mimetype": "text/x-python",
   "name": "python",
   "nbconvert_exporter": "python",
   "pygments_lexer": "ipython3",
   "version": "3.9.10"
  }
 },
 "nbformat": 4,
 "nbformat_minor": 5
}
