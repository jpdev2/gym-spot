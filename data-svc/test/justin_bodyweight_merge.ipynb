{
 "cells": [
  {
   "cell_type": "code",
   "execution_count": 1,
   "id": "051daed0",
   "metadata": {},
   "outputs": [],
   "source": [
    "import pandas as pd\n",
    "import matplotlib.pyplot as plt"
   ]
  },
  {
   "cell_type": "code",
   "execution_count": 2,
   "id": "e9774977",
   "metadata": {},
   "outputs": [
    {
     "data": {
      "text/html": [
       "<div>\n",
       "<style scoped>\n",
       "    .dataframe tbody tr th:only-of-type {\n",
       "        vertical-align: middle;\n",
       "    }\n",
       "\n",
       "    .dataframe tbody tr th {\n",
       "        vertical-align: top;\n",
       "    }\n",
       "\n",
       "    .dataframe thead th {\n",
       "        text-align: right;\n",
       "    }\n",
       "</style>\n",
       "<table border=\"1\" class=\"dataframe\">\n",
       "  <thead>\n",
       "    <tr style=\"text-align: right;\">\n",
       "      <th></th>\n",
       "      <th>Date</th>\n",
       "      <th>Weight (lbs)</th>\n",
       "    </tr>\n",
       "  </thead>\n",
       "  <tbody>\n",
       "    <tr>\n",
       "      <th>0</th>\n",
       "      <td>2019-01-21</td>\n",
       "      <td>144.2</td>\n",
       "    </tr>\n",
       "    <tr>\n",
       "      <th>1</th>\n",
       "      <td>2019-01-22</td>\n",
       "      <td>143.2</td>\n",
       "    </tr>\n",
       "    <tr>\n",
       "      <th>2</th>\n",
       "      <td>2019-01-23</td>\n",
       "      <td>143.8</td>\n",
       "    </tr>\n",
       "    <tr>\n",
       "      <th>3</th>\n",
       "      <td>2019-01-24</td>\n",
       "      <td>144.0</td>\n",
       "    </tr>\n",
       "    <tr>\n",
       "      <th>4</th>\n",
       "      <td>2019-01-25</td>\n",
       "      <td>145.4</td>\n",
       "    </tr>\n",
       "  </tbody>\n",
       "</table>\n",
       "</div>"
      ],
      "text/plain": [
       "        Date  Weight (lbs)\n",
       "0 2019-01-21         144.2\n",
       "1 2019-01-22         143.2\n",
       "2 2019-01-23         143.8\n",
       "3 2019-01-24         144.0\n",
       "4 2019-01-25         145.4"
      ]
     },
     "execution_count": 2,
     "metadata": {},
     "output_type": "execute_result"
    }
   ],
   "source": [
    "# loads 2019-2020 data from excel\n",
    "df = pd.read_excel(\"./resources/weight_log_2019_2020.xlsx\")\n",
    "df.head()"
   ]
  },
  {
   "cell_type": "code",
   "execution_count": 3,
   "id": "2a1ba556",
   "metadata": {},
   "outputs": [],
   "source": [
    "# adds yearly data 2017-2023\n",
    "yearly_data = {\n",
    "    'Date': [\"07/17/17\", \"07/17/18\", \"02/24/23\"],\n",
    "    'Weight (lbs)': [125, 145, 200]\n",
    "}\n",
    "df2 = pd.DataFrame(yearly_data)\n",
    "df2['Date'] = pd.to_datetime(df2['Date'])\n",
    "\n",
    "df = pd.concat([df, df2], ignore_index = True)"
   ]
  },
  {
   "cell_type": "code",
   "execution_count": 4,
   "id": "d9032962",
   "metadata": {},
   "outputs": [],
   "source": [
    "# adds 2021-2022 data from withings smart scale\n",
    "df3 = pd.read_csv('./resources/withings_weight_data.csv')\n",
    "df3['Date'] = pd.to_datetime(df3['Date'])\n",
    "df3 = df3.drop(columns=['Fat mass (lb)','Bone mass (lb)', 'Muscle mass (lb)', 'Hydration (lb)', 'Comments'])\n",
    "df3 = df3.rename(columns={\"Weight (lb)\": \"Weight (lbs)\"})\n",
    "\n",
    "df = pd.concat([df, df3], ignore_index = True)"
   ]
  },
  {
   "cell_type": "code",
   "execution_count": 7,
   "id": "a15d021a",
   "metadata": {},
   "outputs": [
    {
     "data": {
      "text/html": [
       "<div>\n",
       "<style scoped>\n",
       "    .dataframe tbody tr th:only-of-type {\n",
       "        vertical-align: middle;\n",
       "    }\n",
       "\n",
       "    .dataframe tbody tr th {\n",
       "        vertical-align: top;\n",
       "    }\n",
       "\n",
       "    .dataframe thead th {\n",
       "        text-align: right;\n",
       "    }\n",
       "</style>\n",
       "<table border=\"1\" class=\"dataframe\">\n",
       "  <thead>\n",
       "    <tr style=\"text-align: right;\">\n",
       "      <th></th>\n",
       "      <th>Date</th>\n",
       "      <th>Weight (lbs)</th>\n",
       "    </tr>\n",
       "  </thead>\n",
       "  <tbody>\n",
       "    <tr>\n",
       "      <th>526</th>\n",
       "      <td>2022-05-10 08:50:53</td>\n",
       "      <td>186.8</td>\n",
       "    </tr>\n",
       "    <tr>\n",
       "      <th>525</th>\n",
       "      <td>2022-06-06 10:56:53</td>\n",
       "      <td>187.3</td>\n",
       "    </tr>\n",
       "    <tr>\n",
       "      <th>524</th>\n",
       "      <td>2022-08-03 07:05:57</td>\n",
       "      <td>184.8</td>\n",
       "    </tr>\n",
       "    <tr>\n",
       "      <th>523</th>\n",
       "      <td>2022-09-13 12:02:11</td>\n",
       "      <td>187.9</td>\n",
       "    </tr>\n",
       "    <tr>\n",
       "      <th>522</th>\n",
       "      <td>2023-02-24 00:00:00</td>\n",
       "      <td>200.0</td>\n",
       "    </tr>\n",
       "  </tbody>\n",
       "</table>\n",
       "</div>"
      ],
      "text/plain": [
       "                   Date  Weight (lbs)\n",
       "526 2022-05-10 08:50:53         186.8\n",
       "525 2022-06-06 10:56:53         187.3\n",
       "524 2022-08-03 07:05:57         184.8\n",
       "523 2022-09-13 12:02:11         187.9\n",
       "522 2023-02-24 00:00:00         200.0"
      ]
     },
     "execution_count": 7,
     "metadata": {},
     "output_type": "execute_result"
    }
   ],
   "source": [
    "df = df.sort_values(by=['Date'])\n",
    "\n",
    "df.tail()"
   ]
  },
  {
   "cell_type": "code",
   "execution_count": 8,
   "id": "96f96937",
   "metadata": {},
   "outputs": [
    {
     "data": {
      "image/png": "[encoded data removed]",
      "text/plain": [
       "<Figure size 432x288 with 1 Axes>"
      ]
     },
     "metadata": {
      "needs_background": "light"
     },
     "output_type": "display_data"
    }
   ],
   "source": [
    "# plots data on line graph\n",
    "x = df['Date']\n",
    "y = df['Weight (lbs)']\n",
    "\n",
    "plt.plot(x, y)\n",
    "plt.xlabel(\"Date\")\n",
    "plt.ylabel(\"Bodyweight (lbs)\")\n",
    "plt.title(\"Weight Gain over Time\")\n",
    "plt.show()"
   ]
  },
  {
   "cell_type": "code",
   "execution_count": 11,
   "id": "edf69c26",
   "metadata": {},
   "outputs": [],
   "source": [
    "df.to_csv(\"./resources/bodyweights_justin.csv\", index = False)"
   ]
  },
  {
   "cell_type": "code",
   "execution_count": null,
   "id": "6659bc38",
   "metadata": {},
   "outputs": [],
   "source": []
  },
  {
   "cell_type": "code",
   "execution_count": null,
   "id": "28950642",
   "metadata": {},
   "outputs": [],
   "source": []
  },
  {
   "cell_type": "code",
   "execution_count": null,
   "id": "3a237b39",
   "metadata": {},
   "outputs": [],
   "source": []
  },
  {
   "cell_type": "code",
   "execution_count": 15,
   "id": "da280298",
   "metadata": {},
   "outputs": [
    {
     "data": {
      "text/html": [
       "<div>\n",
       "<style scoped>\n",
       "    .dataframe tbody tr th:only-of-type {\n",
       "        vertical-align: middle;\n",
       "    }\n",
       "\n",
       "    .dataframe tbody tr th {\n",
       "        vertical-align: top;\n",
       "    }\n",
       "\n",
       "    .dataframe thead th {\n",
       "        text-align: right;\n",
       "    }\n",
       "</style>\n",
       "<table border=\"1\" class=\"dataframe\">\n",
       "  <thead>\n",
       "    <tr style=\"text-align: right;\">\n",
       "      <th></th>\n",
       "      <th>date</th>\n",
       "      <th>weight</th>\n",
       "    </tr>\n",
       "  </thead>\n",
       "  <tbody>\n",
       "    <tr>\n",
       "      <th>0</th>\n",
       "      <td>2017-07-17 00:00:00</td>\n",
       "      <td>125.0</td>\n",
       "    </tr>\n",
       "    <tr>\n",
       "      <th>1</th>\n",
       "      <td>2018-07-17 00:00:00</td>\n",
       "      <td>145.0</td>\n",
       "    </tr>\n",
       "    <tr>\n",
       "      <th>2</th>\n",
       "      <td>2019-01-21 00:00:00</td>\n",
       "      <td>144.2</td>\n",
       "    </tr>\n",
       "    <tr>\n",
       "      <th>3</th>\n",
       "      <td>2019-01-22 00:00:00</td>\n",
       "      <td>143.2</td>\n",
       "    </tr>\n",
       "    <tr>\n",
       "      <th>4</th>\n",
       "      <td>2019-01-23 00:00:00</td>\n",
       "      <td>143.8</td>\n",
       "    </tr>\n",
       "  </tbody>\n",
       "</table>\n",
       "</div>"
      ],
      "text/plain": [
       "                  date  weight\n",
       "0  2017-07-17 00:00:00   125.0\n",
       "1  2018-07-17 00:00:00   145.0\n",
       "2  2019-01-21 00:00:00   144.2\n",
       "3  2019-01-22 00:00:00   143.2\n",
       "4  2019-01-23 00:00:00   143.8"
      ]
     },
     "execution_count": 15,
     "metadata": {},
     "output_type": "execute_result"
    }
   ],
   "source": [
    "df2 = pd.read_csv(\"./resources/bodyweights_justin.csv\")\n",
    "df2 = df2.rename(columns={\"Date\": \"date\", \"Weight (lbs)\": \"weight\"})\n",
    "\n",
    "df2.head()"
   ]
  },
  {
   "cell_type": "code",
   "execution_count": 43,
   "id": "dc6b1575",
   "metadata": {},
   "outputs": [
    {
     "data": {
      "text/html": [
       "<div>\n",
       "<style scoped>\n",
       "    .dataframe tbody tr th:only-of-type {\n",
       "        vertical-align: middle;\n",
       "    }\n",
       "\n",
       "    .dataframe tbody tr th {\n",
       "        vertical-align: top;\n",
       "    }\n",
       "\n",
       "    .dataframe thead th {\n",
       "        text-align: right;\n",
       "    }\n",
       "</style>\n",
       "<table border=\"1\" class=\"dataframe\">\n",
       "  <thead>\n",
       "    <tr style=\"text-align: right;\">\n",
       "      <th></th>\n",
       "      <th>date</th>\n",
       "      <th>weight</th>\n",
       "      <th>str</th>\n",
       "    </tr>\n",
       "  </thead>\n",
       "  <tbody>\n",
       "    <tr>\n",
       "      <th>0</th>\n",
       "      <td>2017-07-17 00:00:00</td>\n",
       "      <td>125.0</td>\n",
       "      <td>(125.0, '2017-07-17', 9)</td>\n",
       "    </tr>\n",
       "    <tr>\n",
       "      <th>1</th>\n",
       "      <td>2018-07-17 00:00:00</td>\n",
       "      <td>145.0</td>\n",
       "      <td>(145.0, '2018-07-17', 9)</td>\n",
       "    </tr>\n",
       "    <tr>\n",
       "      <th>2</th>\n",
       "      <td>2019-01-21 00:00:00</td>\n",
       "      <td>144.2</td>\n",
       "      <td>(144.2, '2019-01-21', 9)</td>\n",
       "    </tr>\n",
       "    <tr>\n",
       "      <th>3</th>\n",
       "      <td>2019-01-22 00:00:00</td>\n",
       "      <td>143.2</td>\n",
       "      <td>(143.2, '2019-01-22', 9)</td>\n",
       "    </tr>\n",
       "    <tr>\n",
       "      <th>4</th>\n",
       "      <td>2019-01-23 00:00:00</td>\n",
       "      <td>143.8</td>\n",
       "      <td>(143.8, '2019-01-23', 9)</td>\n",
       "    </tr>\n",
       "  </tbody>\n",
       "</table>\n",
       "</div>"
      ],
      "text/plain": [
       "                  date  weight                       str\n",
       "0  2017-07-17 00:00:00   125.0  (125.0, '2017-07-17', 9)\n",
       "1  2018-07-17 00:00:00   145.0  (145.0, '2018-07-17', 9)\n",
       "2  2019-01-21 00:00:00   144.2  (144.2, '2019-01-21', 9)\n",
       "3  2019-01-22 00:00:00   143.2  (143.2, '2019-01-22', 9)\n",
       "4  2019-01-23 00:00:00   143.8  (143.8, '2019-01-23', 9)"
      ]
     },
     "execution_count": 43,
     "metadata": {},
     "output_type": "execute_result"
    }
   ],
   "source": [
    "user_id = 9\n",
    "\n",
    "df2['str'] = df2.apply(lambda row: f\"({str(row.weight)}, \\'{row.date.split(' ')[0]}\\', {user_id})\", axis = 1)\n",
    "\n",
    "df2.head()"
   ]
  },
  {
   "cell_type": "code",
   "execution_count": 44,
   "id": "95e50dad",
   "metadata": {},
   "outputs": [],
   "source": [
    "newRows = df2['str'].tolist()"
   ]
  },
  {
   "cell_type": "code",
   "execution_count": 50,
   "id": "5db0eddd",
   "metadata": {},
   "outputs": [],
   "source": [
    "query = \"\"\"\n",
    "        INSERT INTO bodyweights(weight, date, user_id)\n",
    "        VALUES\n",
    "\"\"\""
   ]
  },
  {
   "cell_type": "code",
   "execution_count": 51,
   "id": "ab3e1f5f",
   "metadata": {},
   "outputs": [
    {
     "name": "stdout",
     "output_type": "stream",
     "text": [
      "\n",
      "        INSERT INTO bodyweights(weight, date, user_id)\n",
      "        VALUES\n",
      "\n"
     ]
    }
   ],
   "source": [
    "print(query)"
   ]
  },
  {
   "cell_type": "code",
   "execution_count": 52,
   "id": "7679f303",
   "metadata": {},
   "outputs": [],
   "source": [
    "for row in newRows[0:3]:\n",
    "    query += row + ',\\n'"
   ]
  },
  {
   "cell_type": "code",
   "execution_count": 53,
   "id": "4c4f7615",
   "metadata": {},
   "outputs": [
    {
     "name": "stdout",
     "output_type": "stream",
     "text": [
      "\n",
      "        INSERT INTO bodyweights(weight, date, user_id)\n",
      "        VALUES\n",
      "(125.0, '2017-07-17', 9),\n",
      "(145.0, '2018-07-17', 9),\n",
      "(144.2, '2019-01-21', 9);\n"
     ]
    }
   ],
   "source": [
    "query = query[:-2] + ';'\n",
    "print(query)"
   ]
  },
  {
   "cell_type": "code",
   "execution_count": 55,
   "id": "e7bb4b42",
   "metadata": {},
   "outputs": [
    {
     "data": {
      "text/plain": [
       "650"
      ]
     },
     "execution_count": 55,
     "metadata": {},
     "output_type": "execute_result"
    }
   ],
   "source": [
    "df.shape[0]"
   ]
  }
 ],
 "metadata": {
  "kernelspec": {
   "display_name": "Python 3 (ipykernel)",
   "language": "python",
   "name": "python3"
  },
  "language_info": {
   "codemirror_mode": {
    "name": "ipython",
    "version": 3
   },
   "file_extension": ".py",
   "mimetype": "text/x-python",
   "name": "python",
   "nbconvert_exporter": "python",
   "pygments_lexer": "ipython3",
   "version": "3.9.10"
  }
 },
 "nbformat": 4,
 "nbformat_minor": 5
}
